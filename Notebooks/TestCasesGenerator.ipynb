{
 "cells": [
  {
   "cell_type": "code",
   "execution_count": 8,
   "metadata": {},
   "outputs": [],
   "source": [
    "import cv2\n",
    "import numpy as np\n",
    "import math\n",
    "import glob\n",
    "import skimage\n",
    "import os\n",
    "from shutil import copyfile\n",
    "import random\n",
    "from tqdm import tqdm"
   ]
  },
  {
   "cell_type": "code",
   "execution_count": 9,
   "metadata": {},
   "outputs": [],
   "source": [
    "#Number of writers to generate the test dataset from\n",
    "numberOfWriters = 672\n",
    "\n",
    "#Number of test cases needed\n",
    "numberOfTestCases = 600\n",
    "\n",
    "#Path for Writers data\n",
    "writersPath = \"Data\\Writers\\\\\"\n",
    "\n",
    "#Path to generate the dataset at\n",
    "testDatasetDirectory = \"Data\\data\\\\\"\n",
    "\n",
    "#Path to all of the images in the dataset\n",
    "allDatasetDirectory = \"Data\\AllDataSet\\\\\"\n",
    "\n",
    "#Path to the writers form.txt\n",
    "writersFormDirectory = \"Data\\\\asciiData\\\\forms.txt\""
   ]
  },
  {
   "cell_type": "code",
   "execution_count": 10,
   "metadata": {},
   "outputs": [],
   "source": [
    "def get_writers_images_names(file_path):\n",
    "    try:\n",
    "        file = open(file_path, \"r\")\n",
    "        file_lines = file.readlines()\n",
    "        for i in range(len(file_lines)):\n",
    "            file_lines[i] = file_lines[i].rstrip(\"\\n\")\n",
    "        file.close()\n",
    "        return file_lines\n",
    "    except IOError:\n",
    "        return []"
   ]
  },
  {
   "cell_type": "code",
   "execution_count": 11,
   "metadata": {},
   "outputs": [],
   "source": [
    "#This cell is responsible for grouping the ids of a specific writer and discarding writers who has less than 3 images\n",
    "writerImagesID=[]\n",
    "for i in range(numberOfWriters):\n",
    "    writerID = '%03d' % i\n",
    "    writerImagesIDItem =get_writers_images_names(writersPath+writerID+\".txt\")\n",
    "    if len(writerImagesIDItem) >= 3:\n",
    "        writerImagesID.append(writerImagesIDItem)"
   ]
  },
  {
   "cell_type": "code",
   "execution_count": 12,
   "metadata": {},
   "outputs": [],
   "source": [
    "#This function is responsible for getting the writed id of a specific image name\n",
    "def getWriterId(path, imageId):\n",
    "    imageId = imageId.split(\".\")[0]\n",
    "    file = open(path,\"r\")\n",
    "    file_lines=file.readlines()\n",
    "    line =file_lines[18]\n",
    "    #imageId = \"a01-007\"\n",
    "    imageId=imageId+\" \"\n",
    "    for line in file_lines[16:]:\n",
    "        if imageId in line:\n",
    "            if(line[7]==\" \"):\n",
    "                return line[8:11]\n",
    "            else:\n",
    "                return line[9:12]\n",
    "    file.close()"
   ]
  },
  {
   "cell_type": "code",
   "execution_count": 13,
   "metadata": {},
   "outputs": [
    {
     "name": "stderr",
     "output_type": "stream",
     "text": [
      "100%|████████████████████████████████████████████████████████████████████████████████| 600/600 [03:37<00:00,  2.75it/s]\n"
     ]
    }
   ],
   "source": [
    "#Generating the folders if not available and create them\n",
    "for i in range(numberOfTestCases):\n",
    "    z = '%02d' % i \n",
    "    directory = testDatasetDirectory +z+'\\\\'\n",
    "    if not os.path.exists(directory):\n",
    "        os.makedirs(directory)\n",
    "    if not os.path.exists(directory+'1\\\\'):\n",
    "        os.makedirs(directory+'1\\\\')\n",
    "    if not os.path.exists(directory+'2\\\\'):\n",
    "        os.makedirs(directory+'2\\\\')\n",
    "    if not os.path.exists(directory+'3\\\\'):\n",
    "        os.makedirs(directory+'3\\\\')      \n",
    "\n",
    "for i in tqdm(range(numberOfTestCases)):\n",
    "    testCaseNumber = '%02d' % i \n",
    "    directory = testDatasetDirectory+testCaseNumber+'\\\\'\n",
    "    randomWriterIndex1 = random.randrange(0, len(writerImagesID), 1)\n",
    "        \n",
    "    writersID = []\n",
    "    \n",
    "    #Generating images of writer 1 in the test case\n",
    "    image1 = ''\n",
    "    image2 = ''\n",
    "    while image1==image2:\n",
    "        image1 = writerImagesID[randomWriterIndex1][random.randrange(0, len(writerImagesID[randomWriterIndex1]), 1)]\n",
    "        image2 = writerImagesID[randomWriterIndex1][random.randrange(0, len(writerImagesID[randomWriterIndex1]), 1)]\n",
    "    dest1 = testDatasetDirectory+testCaseNumber+'\\\\1\\\\'+image1\n",
    "    dest2 = testDatasetDirectory+testCaseNumber+'\\\\1\\\\'+image2\n",
    "    copyfile('Data\\AllDataSet\\\\'+image1, dest1)\n",
    "    copyfile('Data\\AllDataSet\\\\'+image2, dest2)\n",
    "    writersID.append(getWriterId(writersFormDirectory, image1))\n",
    "    \n",
    "    \n",
    "    \n",
    "    #Generating images of writer 2 in the test case\n",
    "    randomWriterIndex2 = random.randrange(0, len(writerImagesID), 1)\n",
    "    while randomWriterIndex2==randomWriterIndex1:\n",
    "        randomWriterIndex2 = random.randrange(0, len(writerImagesID), 1)\n",
    "        \n",
    "    image3 = ''\n",
    "    image4 = ''\n",
    "    while image3==image4:\n",
    "        image3 = writerImagesID[randomWriterIndex2][random.randrange(0, len(writerImagesID[randomWriterIndex2]), 1)]\n",
    "        image4 = writerImagesID[randomWriterIndex2][random.randrange(0, len(writerImagesID[randomWriterIndex2]), 1)]\n",
    "    dest1 = testDatasetDirectory+testCaseNumber+'\\\\2\\\\'+image3\n",
    "    dest2 = testDatasetDirectory+testCaseNumber+'\\\\2\\\\'+image4\n",
    "    copyfile(allDatasetDirectory+image3, dest1)\n",
    "    copyfile(allDatasetDirectory+image4, dest2)\n",
    "    writersID.append(getWriterId(writersFormDirectory, image3))\n",
    "    \n",
    "    \n",
    "    #Generating images of writer 3 in the test case\n",
    "    randomWriterIndex3 = random.randrange(0, len(writerImagesID), 1)\n",
    "    while randomWriterIndex3==randomWriterIndex1 or randomWriterIndex3==randomWriterIndex2:\n",
    "        randomWriterIndex3 = random.randrange(0, len(writerImagesID), 1)\n",
    "    \n",
    "    image5 = ''\n",
    "    image6 = ''\n",
    "    while image5==image6:\n",
    "        image5 = writerImagesID[randomWriterIndex3][random.randrange(0, len(writerImagesID[randomWriterIndex3]), 1)]\n",
    "        image6 = writerImagesID[randomWriterIndex3][random.randrange(0, len(writerImagesID[randomWriterIndex3]), 1)]\n",
    "    dest1 = testDatasetDirectory+testCaseNumber+'\\\\3\\\\'+image5\n",
    "    dest2 = testDatasetDirectory+testCaseNumber+'\\\\3\\\\'+image6\n",
    "    copyfile(allDatasetDirectory+image5, dest1)\n",
    "    copyfile(allDatasetDirectory+image6, dest2)\n",
    "    writersID.append(getWriterId(writersFormDirectory, image5))\n",
    "    \n",
    "    \n",
    "    #Generating the test image randomly from the dataset of the 3 writers\n",
    "    #Making sure the test image is different than those from the given training images\n",
    "    randomWriterIndexTest = random.choice([randomWriterIndex1,randomWriterIndex2,randomWriterIndex3])\n",
    "    imageTest = writerImagesID[randomWriterIndexTest][random.randrange(0, len(writerImagesID[randomWriterIndexTest]), 1)]\n",
    "    while imageTest == image1 or imageTest == image2 or imageTest == image3 or imageTest == image4 or imageTest == image5 or imageTest == image6:\n",
    "             imageTest = writerImagesID[randomWriterIndexTest][random.randrange(0, len(writerImagesID[randomWriterIndexTest]), 1)]\n",
    "    copyfile(allDatasetDirectory+imageTest, testDatasetDirectory+testCaseNumber+'\\\\'+imageTest)\n",
    "    writersID.append(getWriterId(writersFormDirectory, imageTest))\n",
    "    \n",
    "    f= open(testDatasetDirectory+testCaseNumber+\"\\ids.txt\",\"a\")\n",
    "    for i in range(len(writersID)):\n",
    "        f.write(writersID[i]+\"\\n\")\n",
    "    f.close()    "
   ]
  },
  {
   "cell_type": "code",
   "execution_count": null,
   "metadata": {},
   "outputs": [],
   "source": []
  },
  {
   "cell_type": "code",
   "execution_count": null,
   "metadata": {},
   "outputs": [],
   "source": []
  }
 ],
 "metadata": {
  "kernelspec": {
   "display_name": "Python 3",
   "language": "python",
   "name": "python3"
  },
  "language_info": {
   "codemirror_mode": {
    "name": "ipython",
    "version": 3
   },
   "file_extension": ".py",
   "mimetype": "text/x-python",
   "name": "python",
   "nbconvert_exporter": "python",
   "pygments_lexer": "ipython3",
   "version": "3.8.5"
  }
 },
 "nbformat": 4,
 "nbformat_minor": 4
}
