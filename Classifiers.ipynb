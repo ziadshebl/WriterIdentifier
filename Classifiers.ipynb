{
 "cells": [
  {
   "cell_type": "code",
   "execution_count": 30,
   "metadata": {},
   "outputs": [],
   "source": [
    "import cv2\n",
    "import numpy as np\n",
    "from sklearn import svm\n",
    "from sklearn import tree\n",
    "from sklearn.neighbors import KNeighborsClassifier\n",
    "from sklearn.cluster import KMeans\n",
    "from sklearn.ensemble import RandomForestClassifier\n",
    "from sklearn.ensemble import AdaBoostClassifier\n",
    "from sklearn.neural_network import MLPClassifier\n",
    "from sklearn.ensemble import GradientBoostingClassifier\n",
    "from statistics import mode"
   ]
  },
  {
   "cell_type": "code",
   "execution_count": 20,
   "metadata": {},
   "outputs": [],
   "source": [
    "def KNNClassifier(x_train, y_train, x_test, k=3):\n",
    "    clf = KNeighborsClassifier(n_neighbors=k)\n",
    "    clf.fit(x_train, y_train)\n",
    "    results=clf.predict_proba(x_test)\n",
    "    return results"
   ]
  },
  {
   "cell_type": "code",
   "execution_count": 41,
   "metadata": {},
   "outputs": [],
   "source": [
    "def SVMClassifier(x_train, y_train, x_test):\n",
    "    clf = svm.SVC(probability=True)#, gamma='auto', C=5.0)\n",
    "    clf.fit(x_train, y_train)\n",
    "    results=clf.predict_proba(x_test)\n",
    "    return results"
   ]
  },
  {
   "cell_type": "code",
   "execution_count": 28,
   "metadata": {},
   "outputs": [],
   "source": [
    "def RandForestClassifier(x_train, y_train, x_test, max_depth=2, random_state=0):\n",
    "    clf = RandomForestClassifier(max_depth=max_depth, random_state=random_state)\n",
    "    clf.fit(x_train, y_train)\n",
    "    results=clf.predict_proba(x_test)\n",
    "    return results"
   ]
  },
  {
   "cell_type": "code",
   "execution_count": 23,
   "metadata": {},
   "outputs": [],
   "source": [
    "def KMeansClassifier(x_train, y_train, x_test, n_clusters=3, random_state=0):\n",
    "    clf = KMeans(n_clusters=n_clusters, random_state=random_state)\n",
    "    clf.fit(x_train)\n",
    "    results=clf.predict(x_test)\n",
    "    results + 1\n",
    "    return results"
   ]
  },
  {
   "cell_type": "code",
   "execution_count": 34,
   "metadata": {},
   "outputs": [],
   "source": [
    "def AdaboostClassifier(x_train, y_train, x_testn_estimators=100, random_state=0):\n",
    "    clf = AdaBoostClassifier(n_estimators=n_estimators, random_state=random_state)\n",
    "    clf.fit(x_train, y_train)\n",
    "    results = clf.predict_proba(x_test)\n",
    "    return results\n",
    "    "
   ]
  },
  {
   "cell_type": "code",
   "execution_count": 40,
   "metadata": {},
   "outputs": [],
   "source": [
    "def NNClassifier(x_train, y_train, x_test, max_iter=300, random_state=0,hidden_layer_sizes = [100, 50]):\n",
    "    clf = MLPClassifier(random_state=random_state, max_iter=max_iter, hidden_layer_sizes = hidden_layer_sizes)\n",
    "    clf.fit(x_train, y_train)\n",
    "    results = clf.predict_proba(x_test)\n",
    "    return results"
   ]
  },
  {
   "cell_type": "code",
   "execution_count": 43,
   "metadata": {},
   "outputs": [],
   "source": [
    "def XGBoost(x_train, y_train, x_test, n_estimators=100, random_state=0,learning_rate = 1.0, max_depth=8):\n",
    "    clf = GradientBoostingClassifier(n_estimators=n_estimators, learning_rate=learning_rate, max_depth=max_depth, random_state=random_state)\n",
    "    clf.fit(x_train, y_train)\n",
    "    results = clf.predict_proba(x_test)\n",
    "    return results"
   ]
  },
  {
   "cell_type": "code",
   "execution_count": null,
   "metadata": {},
   "outputs": [],
   "source": []
  }
 ],
 "metadata": {
  "kernelspec": {
   "display_name": "Python 3",
   "language": "python",
   "name": "python3"
  },
  "language_info": {
   "codemirror_mode": {
    "name": "ipython",
    "version": 3
   },
   "file_extension": ".py",
   "mimetype": "text/x-python",
   "name": "python",
   "nbconvert_exporter": "python",
   "pygments_lexer": "ipython3",
   "version": "3.8.5"
  }
 },
 "nbformat": 4,
 "nbformat_minor": 4
}
