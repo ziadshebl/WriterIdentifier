{
 "cells": [
  {
   "cell_type": "code",
   "execution_count": null,
   "metadata": {},
   "outputs": [],
   "source": [
    "from statistics import mode"
   ]
  },
  {
   "cell_type": "code",
   "execution_count": null,
   "metadata": {},
   "outputs": [],
   "source": [
    "def show_images(images,titles=None):\n",
    "    #This function is used to show image(s) with titles by sending an array of images and an array of associated titles.\n",
    "    # images[0] will be drawn with the title titles[0] if exists\n",
    "    # You aren't required to understand this function, use it as-is.\n",
    "    n_ims = len(images)\n",
    "    if titles is None: titles = ['(%d)' % i for i in range(1,n_ims + 1)]\n",
    "    fig = plt.figure(figsize=(15,15))\n",
    "    n = 1\n",
    "    for image,title in zip(images,titles):\n",
    "        a = fig.add_subplot(1,n_ims,n)\n",
    "        if image.ndim == 2: \n",
    "            plt.gray()\n",
    "        plt.imshow(image)\n",
    "        a.set_title(title)\n",
    "        n += 1\n",
    "    fig.set_size_inches(np.array(fig.get_size_inches()) * n_ims)\n",
    "    plt.show()"
   ]
  },
  {
   "cell_type": "code",
   "execution_count": null,
   "metadata": {},
   "outputs": [],
   "source": [
    "def readTestCase(testCaseDirectory):\n",
    "    x_train = []\n",
    "    y_train = []\n",
    "    \n",
    "    imagesGlob = glob.glob(testCaseDirectory+\"\\\\1\\\\*.png\")\n",
    "    x_train.append(cv2.imread(imagesGlob[0]))\n",
    "    x_train.append(cv2.imread(imagesGlob[1]))\n",
    "    y_train.append(1)\n",
    "    y_train.append(1)\n",
    "    \n",
    "    imagesGlob = glob.glob(testCaseDirectory+\"\\\\2\\\\*.png\")\n",
    "    x_train.append(cv2.imread(imagesGlob[0]))\n",
    "    x_train.append(cv2.imread(imagesGlob[1]))\n",
    "    y_train.append(2)\n",
    "    y_train.append(2)\n",
    "    \n",
    "    imagesGlob = glob.glob(testCaseDirectory+\"\\\\3\\\\*.png\")\n",
    "    x_train.append(cv2.imread(imagesGlob[0]))\n",
    "    x_train.append(cv2.imread(imagesGlob[1]))\n",
    "    y_train.append(3)\n",
    "    y_train.append(3)\n",
    "    \n",
    "    \n",
    "    x_test = cv2.imread(glob.glob(testCaseDirectory+\"\\*.png\")[0])\n",
    "    \n",
    "    return x_train, y_train, x_test"
   ]
  },
  {
   "cell_type": "code",
   "execution_count": null,
   "metadata": {},
   "outputs": [],
   "source": [
    "def isCorrect(testDatasetDirectory, z, results):\n",
    "    \n",
    "    reader = open(testDatasetDirectory+z+'\\ids.txt')\n",
    "    \n",
    "    inputs = list(reader)\n",
    "    \n",
    "    true = -1\n",
    "    if int(inputs[-1].lstrip()) == int(inputs[0].lstrip()):\n",
    "        true = 1\n",
    "    elif int(inputs[-1].lstrip()) == int(inputs[1].lstrip()):\n",
    "        true = 2\n",
    "    elif int(inputs[-1].lstrip()) == int(inputs[2].lstrip()):\n",
    "        true = 3  \n",
    "        \n",
    "    if true == mode(results):\n",
    "        return True\n",
    "    return False"
   ]
  }
 ],
 "metadata": {
  "kernelspec": {
   "display_name": "Python 3",
   "language": "python",
   "name": "python3"
  },
  "language_info": {
   "codemirror_mode": {
    "name": "ipython",
    "version": 3
   },
   "file_extension": ".py",
   "mimetype": "text/x-python",
   "name": "python",
   "nbconvert_exporter": "python",
   "pygments_lexer": "ipython3",
   "version": "3.8.5"
  }
 },
 "nbformat": 4,
 "nbformat_minor": 4
}
